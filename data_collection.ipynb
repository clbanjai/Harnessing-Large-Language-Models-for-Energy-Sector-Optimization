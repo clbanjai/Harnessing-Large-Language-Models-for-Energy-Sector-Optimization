{
 "cells": [
  {
   "cell_type": "code",
   "execution_count": 1,
   "metadata": {},
   "outputs": [],
   "source": [
    "import pandas as pd\n",
    "import datetime as dt\n",
    "import numpy as np\n"
   ]
  },
  {
   "cell_type": "code",
   "execution_count": 2,
   "metadata": {},
   "outputs": [
    {
     "name": "stdout",
     "output_type": "stream",
     "text": [
      "      q_id   q_status      q_date  q_year ia_date wd_date on_date entity  \\\n",
      "0   GIA-50  withdrawn  12/18/2014  2014.0     NaN     NaN     NaN    AEC   \n",
      "1  GIA-105     active   7/21/2022  2022.0     NaN     NaN     NaN    AEC   \n",
      "2   GIA-83     active   6/19/2019  2019.0     NaN     NaN     NaN    AEC   \n",
      "3  GIA-113     active   1/13/2023  2023.0     NaN     NaN     NaN    AEC   \n",
      "4   GIA-73  withdrawn  11/19/2018  2018.0     NaN     NaN     NaN    AEC   \n",
      "\n",
      "  project_name developer  ... prop_year IA_status_raw      IA_status_clean  \\\n",
      "0          NaN       NaN  ...    2016.0     Withdrawn            Withdrawn   \n",
      "1          NaN       NaN  ...    2025.0            FS     Facilities Study   \n",
      "2          NaN       NaN  ...    2025.0           GIA          IA Executed   \n",
      "3          NaN       NaN  ...    2026.0           SIS  System Impact Study   \n",
      "4          NaN       NaN  ...    2021.0     Withdrawn            Withdrawn   \n",
      "\n",
      "  type_clean  type1 type2 type3     mw1 mw2  mw3  \n",
      "0       Wind   Wind   NaN   NaN   300.0 NaN  NaN  \n",
      "1        Gas    Gas   NaN   NaN   460.0 NaN  NaN  \n",
      "2       Wind   Wind   NaN   NaN  1018.0 NaN  NaN  \n",
      "3       Wind   Wind   NaN   NaN   500.0 NaN  NaN  \n",
      "4      Solar  Solar   NaN   NaN   300.0 NaN  NaN  \n",
      "\n",
      "[5 rows x 29 columns]\n"
     ]
    }
   ],
   "source": [
    "excel_file = pd.ExcelFile(\"queues_2023_clean_data.xlsx\")\n",
    "interconnection_data = excel_file.parse(\"data\")\n",
    "print(interconnection_data.head())"
   ]
  },
  {
   "cell_type": "code",
   "execution_count": 4,
   "metadata": {},
   "outputs": [
    {
     "name": "stdout",
     "output_type": "stream",
     "text": [
      "      q_id   q_status     q_date  q_year ia_date wd_date on_date entity  \\\n",
      "0   GIA-50  withdrawn 2014-12-18  2014.0     NaT     NaT     NaT    AEC   \n",
      "1  GIA-105     active 2022-07-21  2022.0     NaT     NaT     NaT    AEC   \n",
      "2   GIA-83     active 2019-06-19  2019.0     NaT     NaT     NaT    AEC   \n",
      "3  GIA-113     active 2023-01-13  2023.0     NaT     NaT     NaT    AEC   \n",
      "4   GIA-73  withdrawn 2018-11-19  2018.0     NaT     NaT     NaT    AEC   \n",
      "\n",
      "  project_name developer  ... prop_year IA_status_raw      IA_status_clean  \\\n",
      "0          NaN       NaN  ...    2016.0     Withdrawn            Withdrawn   \n",
      "1          NaN       NaN  ...    2025.0            FS     Facilities Study   \n",
      "2          NaN       NaN  ...    2025.0           GIA          IA Executed   \n",
      "3          NaN       NaN  ...    2026.0           SIS  System Impact Study   \n",
      "4          NaN       NaN  ...    2021.0     Withdrawn            Withdrawn   \n",
      "\n",
      "  type_clean  type1 type2 type3     mw1 mw2  mw3  \n",
      "0       Wind   Wind   NaN   NaN   300.0 NaN  NaN  \n",
      "1        Gas    Gas   NaN   NaN   460.0 NaN  NaN  \n",
      "2       Wind   Wind   NaN   NaN  1018.0 NaN  NaN  \n",
      "3       Wind   Wind   NaN   NaN   500.0 NaN  NaN  \n",
      "4      Solar  Solar   NaN   NaN   300.0 NaN  NaN  \n",
      "\n",
      "[5 rows x 29 columns]\n"
     ]
    }
   ],
   "source": [
    "def categorical_change(data,column):\n",
    "    \"\"\"Changes a column into categorical variables\"\"\"\n",
    "    i=0\n",
    "    seen = {}\n",
    "    categorical = []\n",
    "    for _, row in data.iterrows():\n",
    "        item = row[column]\n",
    "        if item not in seen:\n",
    "            seen[item] = i\n",
    "            i+=1\n",
    "        categorical.append(seen[item])\n",
    "    data[column] = categorical\n",
    "\n",
    "date_columns = [\"q_date\",\"ia_date\",\"wd_date\",\"on_date\"]\n",
    "for col in date_columns:\n",
    "    interconnection_data[col] = pd.to_datetime(interconnection_data[col],errors = \"coerce\")\n",
    "print(interconnection_data.head())"
   ]
  },
  {
   "cell_type": "code",
   "execution_count": null,
   "metadata": {},
   "outputs": [],
   "source": []
  }
 ],
 "metadata": {
  "kernelspec": {
   "display_name": "Python 3",
   "language": "python",
   "name": "python3"
  },
  "language_info": {
   "codemirror_mode": {
    "name": "ipython",
    "version": 3
   },
   "file_extension": ".py",
   "mimetype": "text/x-python",
   "name": "python",
   "nbconvert_exporter": "python",
   "pygments_lexer": "ipython3",
   "version": "3.12.1"
  }
 },
 "nbformat": 4,
 "nbformat_minor": 2
}
